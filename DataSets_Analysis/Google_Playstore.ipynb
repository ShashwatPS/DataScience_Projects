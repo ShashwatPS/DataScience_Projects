{
 "cells": [
  {
   "cell_type": "code",
   "execution_count": 19,
   "id": "initial_id",
   "metadata": {
    "collapsed": true,
    "ExecuteTime": {
     "end_time": "2023-09-15T11:12:07.170163600Z",
     "start_time": "2023-09-15T11:12:07.133157500Z"
    }
   },
   "outputs": [],
   "source": [
    "import pandas as pd"
   ]
  },
  {
   "cell_type": "code",
   "execution_count": 20,
   "outputs": [],
   "source": [
    "data = pd.read_csv(\"../DataSets/googleplaystore.csv\")"
   ],
   "metadata": {
    "collapsed": false,
    "ExecuteTime": {
     "end_time": "2023-09-15T11:12:07.230481200Z",
     "start_time": "2023-09-15T11:12:07.137164200Z"
    }
   },
   "id": "42bb1cae1af3887e"
  },
  {
   "cell_type": "markdown",
   "source": [
    "1. Display Top 5 Rows of The Dataset"
   ],
   "metadata": {
    "collapsed": false
   },
   "id": "c821f0a5d1c3d7c5"
  },
  {
   "cell_type": "code",
   "execution_count": 21,
   "outputs": [
    {
     "data": {
      "text/plain": "                                                 App        Category  Rating  \\\n0     Photo Editor & Candy Camera & Grid & ScrapBook  ART_AND_DESIGN     4.1   \n1                                Coloring book moana  ART_AND_DESIGN     3.9   \n2  U Launcher Lite – FREE Live Cool Themes, Hide ...  ART_AND_DESIGN     4.7   \n3                              Sketch - Draw & Paint  ART_AND_DESIGN     4.5   \n4              Pixel Draw - Number Art Coloring Book  ART_AND_DESIGN     4.3   \n\n  Reviews  Size     Installs  Type Price Content Rating  \\\n0     159   19M      10,000+  Free     0       Everyone   \n1     967   14M     500,000+  Free     0       Everyone   \n2   87510  8.7M   5,000,000+  Free     0       Everyone   \n3  215644   25M  50,000,000+  Free     0           Teen   \n4     967  2.8M     100,000+  Free     0       Everyone   \n\n                      Genres      Last Updated         Current Ver  \\\n0               Art & Design   January 7, 2018               1.0.0   \n1  Art & Design;Pretend Play  January 15, 2018               2.0.0   \n2               Art & Design    August 1, 2018               1.2.4   \n3               Art & Design      June 8, 2018  Varies with device   \n4    Art & Design;Creativity     June 20, 2018                 1.1   \n\n    Android Ver  \n0  4.0.3 and up  \n1  4.0.3 and up  \n2  4.0.3 and up  \n3    4.2 and up  \n4    4.4 and up  ",
      "text/html": "<div>\n<style scoped>\n    .dataframe tbody tr th:only-of-type {\n        vertical-align: middle;\n    }\n\n    .dataframe tbody tr th {\n        vertical-align: top;\n    }\n\n    .dataframe thead th {\n        text-align: right;\n    }\n</style>\n<table border=\"1\" class=\"dataframe\">\n  <thead>\n    <tr style=\"text-align: right;\">\n      <th></th>\n      <th>App</th>\n      <th>Category</th>\n      <th>Rating</th>\n      <th>Reviews</th>\n      <th>Size</th>\n      <th>Installs</th>\n      <th>Type</th>\n      <th>Price</th>\n      <th>Content Rating</th>\n      <th>Genres</th>\n      <th>Last Updated</th>\n      <th>Current Ver</th>\n      <th>Android Ver</th>\n    </tr>\n  </thead>\n  <tbody>\n    <tr>\n      <th>0</th>\n      <td>Photo Editor &amp; Candy Camera &amp; Grid &amp; ScrapBook</td>\n      <td>ART_AND_DESIGN</td>\n      <td>4.1</td>\n      <td>159</td>\n      <td>19M</td>\n      <td>10,000+</td>\n      <td>Free</td>\n      <td>0</td>\n      <td>Everyone</td>\n      <td>Art &amp; Design</td>\n      <td>January 7, 2018</td>\n      <td>1.0.0</td>\n      <td>4.0.3 and up</td>\n    </tr>\n    <tr>\n      <th>1</th>\n      <td>Coloring book moana</td>\n      <td>ART_AND_DESIGN</td>\n      <td>3.9</td>\n      <td>967</td>\n      <td>14M</td>\n      <td>500,000+</td>\n      <td>Free</td>\n      <td>0</td>\n      <td>Everyone</td>\n      <td>Art &amp; Design;Pretend Play</td>\n      <td>January 15, 2018</td>\n      <td>2.0.0</td>\n      <td>4.0.3 and up</td>\n    </tr>\n    <tr>\n      <th>2</th>\n      <td>U Launcher Lite – FREE Live Cool Themes, Hide ...</td>\n      <td>ART_AND_DESIGN</td>\n      <td>4.7</td>\n      <td>87510</td>\n      <td>8.7M</td>\n      <td>5,000,000+</td>\n      <td>Free</td>\n      <td>0</td>\n      <td>Everyone</td>\n      <td>Art &amp; Design</td>\n      <td>August 1, 2018</td>\n      <td>1.2.4</td>\n      <td>4.0.3 and up</td>\n    </tr>\n    <tr>\n      <th>3</th>\n      <td>Sketch - Draw &amp; Paint</td>\n      <td>ART_AND_DESIGN</td>\n      <td>4.5</td>\n      <td>215644</td>\n      <td>25M</td>\n      <td>50,000,000+</td>\n      <td>Free</td>\n      <td>0</td>\n      <td>Teen</td>\n      <td>Art &amp; Design</td>\n      <td>June 8, 2018</td>\n      <td>Varies with device</td>\n      <td>4.2 and up</td>\n    </tr>\n    <tr>\n      <th>4</th>\n      <td>Pixel Draw - Number Art Coloring Book</td>\n      <td>ART_AND_DESIGN</td>\n      <td>4.3</td>\n      <td>967</td>\n      <td>2.8M</td>\n      <td>100,000+</td>\n      <td>Free</td>\n      <td>0</td>\n      <td>Everyone</td>\n      <td>Art &amp; Design;Creativity</td>\n      <td>June 20, 2018</td>\n      <td>1.1</td>\n      <td>4.4 and up</td>\n    </tr>\n  </tbody>\n</table>\n</div>"
     },
     "execution_count": 21,
     "metadata": {},
     "output_type": "execute_result"
    }
   ],
   "source": [
    "data.head(5)"
   ],
   "metadata": {
    "collapsed": false,
    "ExecuteTime": {
     "end_time": "2023-09-15T11:12:07.232480200Z",
     "start_time": "2023-09-15T11:12:07.179837200Z"
    }
   },
   "id": "20e884039df7b842"
  },
  {
   "cell_type": "markdown",
   "source": [
    "2. Check the Last 3 Rows of The Dataset"
   ],
   "metadata": {
    "collapsed": false
   },
   "id": "f66990ccb748d04c"
  },
  {
   "cell_type": "code",
   "execution_count": 22,
   "outputs": [
    {
     "data": {
      "text/plain": "                                                 App             Category  \\\n10838                         Parkinson Exercices FR              MEDICAL   \n10839                  The SCP Foundation DB fr nn5n  BOOKS_AND_REFERENCE   \n10840  iHoroscope - 2018 Daily Horoscope & Astrology            LIFESTYLE   \n\n       Rating Reviews                Size     Installs  Type Price  \\\n10838     NaN       3                9.5M       1,000+  Free     0   \n10839     4.5     114  Varies with device       1,000+  Free     0   \n10840     4.5  398307                 19M  10,000,000+  Free     0   \n\n      Content Rating             Genres      Last Updated         Current Ver  \\\n10838       Everyone            Medical  January 20, 2017                 1.0   \n10839     Mature 17+  Books & Reference  January 19, 2015  Varies with device   \n10840       Everyone          Lifestyle     July 25, 2018  Varies with device   \n\n              Android Ver  \n10838          2.2 and up  \n10839  Varies with device  \n10840  Varies with device  ",
      "text/html": "<div>\n<style scoped>\n    .dataframe tbody tr th:only-of-type {\n        vertical-align: middle;\n    }\n\n    .dataframe tbody tr th {\n        vertical-align: top;\n    }\n\n    .dataframe thead th {\n        text-align: right;\n    }\n</style>\n<table border=\"1\" class=\"dataframe\">\n  <thead>\n    <tr style=\"text-align: right;\">\n      <th></th>\n      <th>App</th>\n      <th>Category</th>\n      <th>Rating</th>\n      <th>Reviews</th>\n      <th>Size</th>\n      <th>Installs</th>\n      <th>Type</th>\n      <th>Price</th>\n      <th>Content Rating</th>\n      <th>Genres</th>\n      <th>Last Updated</th>\n      <th>Current Ver</th>\n      <th>Android Ver</th>\n    </tr>\n  </thead>\n  <tbody>\n    <tr>\n      <th>10838</th>\n      <td>Parkinson Exercices FR</td>\n      <td>MEDICAL</td>\n      <td>NaN</td>\n      <td>3</td>\n      <td>9.5M</td>\n      <td>1,000+</td>\n      <td>Free</td>\n      <td>0</td>\n      <td>Everyone</td>\n      <td>Medical</td>\n      <td>January 20, 2017</td>\n      <td>1.0</td>\n      <td>2.2 and up</td>\n    </tr>\n    <tr>\n      <th>10839</th>\n      <td>The SCP Foundation DB fr nn5n</td>\n      <td>BOOKS_AND_REFERENCE</td>\n      <td>4.5</td>\n      <td>114</td>\n      <td>Varies with device</td>\n      <td>1,000+</td>\n      <td>Free</td>\n      <td>0</td>\n      <td>Mature 17+</td>\n      <td>Books &amp; Reference</td>\n      <td>January 19, 2015</td>\n      <td>Varies with device</td>\n      <td>Varies with device</td>\n    </tr>\n    <tr>\n      <th>10840</th>\n      <td>iHoroscope - 2018 Daily Horoscope &amp; Astrology</td>\n      <td>LIFESTYLE</td>\n      <td>4.5</td>\n      <td>398307</td>\n      <td>19M</td>\n      <td>10,000,000+</td>\n      <td>Free</td>\n      <td>0</td>\n      <td>Everyone</td>\n      <td>Lifestyle</td>\n      <td>July 25, 2018</td>\n      <td>Varies with device</td>\n      <td>Varies with device</td>\n    </tr>\n  </tbody>\n</table>\n</div>"
     },
     "execution_count": 22,
     "metadata": {},
     "output_type": "execute_result"
    }
   ],
   "source": [
    "data.tail(3)"
   ],
   "metadata": {
    "collapsed": false,
    "ExecuteTime": {
     "end_time": "2023-09-15T11:12:07.233481800Z",
     "start_time": "2023-09-15T11:12:07.190965800Z"
    }
   },
   "id": "b2cc9adfda1828f5"
  },
  {
   "cell_type": "markdown",
   "source": [
    "3. Find Shape of Our Dataset (Number of Rows & Number of Columns)"
   ],
   "metadata": {
    "collapsed": false
   },
   "id": "9519dac144c023a3"
  },
  {
   "cell_type": "code",
   "execution_count": 23,
   "outputs": [
    {
     "name": "stdout",
     "output_type": "stream",
     "text": [
      "No of Rows:  10841\n",
      "No of Columns:  13\n"
     ]
    }
   ],
   "source": [
    "data.shape\n",
    "print(\"No of Rows: \",data.shape[0])\n",
    "print(\"No of Columns: \",data.shape[1])"
   ],
   "metadata": {
    "collapsed": false,
    "ExecuteTime": {
     "end_time": "2023-09-15T11:12:07.233481800Z",
     "start_time": "2023-09-15T11:12:07.202655300Z"
    }
   },
   "id": "8aa78597ea77e83a"
  },
  {
   "cell_type": "markdown",
   "source": [
    "4. Get Information About Our Dataset Like Total Number Rows, Total Number of Columns, Datatypes of Each Column And Memory Requirement"
   ],
   "metadata": {
    "collapsed": false
   },
   "id": "2844da23dd6e11b5"
  },
  {
   "cell_type": "code",
   "execution_count": 26,
   "outputs": [
    {
     "name": "stdout",
     "output_type": "stream",
     "text": [
      "<class 'pandas.core.frame.DataFrame'>\n",
      "RangeIndex: 10841 entries, 0 to 10840\n",
      "Data columns (total 13 columns):\n",
      " #   Column          Non-Null Count  Dtype  \n",
      "---  ------          --------------  -----  \n",
      " 0   App             10841 non-null  object \n",
      " 1   Category        10841 non-null  object \n",
      " 2   Rating          9367 non-null   float64\n",
      " 3   Reviews         10841 non-null  object \n",
      " 4   Size            10841 non-null  object \n",
      " 5   Installs        10841 non-null  object \n",
      " 6   Type            10840 non-null  object \n",
      " 7   Price           10841 non-null  object \n",
      " 8   Content Rating  10840 non-null  object \n",
      " 9   Genres          10841 non-null  object \n",
      " 10  Last Updated    10841 non-null  object \n",
      " 11  Current Ver     10833 non-null  object \n",
      " 12  Android Ver     10838 non-null  object \n",
      "dtypes: float64(1), object(12)\n",
      "memory usage: 1.1+ MB\n"
     ]
    }
   ],
   "source": [
    "data.info()"
   ],
   "metadata": {
    "collapsed": false,
    "ExecuteTime": {
     "end_time": "2023-09-15T11:13:21.290687500Z",
     "start_time": "2023-09-15T11:13:21.282484600Z"
    }
   },
   "id": "85b9df27375db8a2"
  },
  {
   "cell_type": "markdown",
   "source": [
    "5. Get Overall Statistics About The Dataframe"
   ],
   "metadata": {
    "collapsed": false
   },
   "id": "bb18d874856bad76"
  },
  {
   "cell_type": "code",
   "execution_count": 29,
   "outputs": [
    {
     "data": {
      "text/plain": "           App Category       Rating Reviews                Size    Installs  \\\ncount    10841    10841  9367.000000   10841               10841       10841   \nunique    9660       34          NaN    6002                 462          22   \ntop     ROBLOX   FAMILY          NaN       0  Varies with device  1,000,000+   \nfreq         9     1972          NaN     596                1695        1579   \nmean       NaN      NaN     4.193338     NaN                 NaN         NaN   \nstd        NaN      NaN     0.537431     NaN                 NaN         NaN   \nmin        NaN      NaN     1.000000     NaN                 NaN         NaN   \n25%        NaN      NaN     4.000000     NaN                 NaN         NaN   \n50%        NaN      NaN     4.300000     NaN                 NaN         NaN   \n75%        NaN      NaN     4.500000     NaN                 NaN         NaN   \nmax        NaN      NaN    19.000000     NaN                 NaN         NaN   \n\n         Type  Price Content Rating Genres    Last Updated  \\\ncount   10840  10841          10840  10841           10841   \nunique      3     93              6    120            1378   \ntop      Free      0       Everyone  Tools  August 3, 2018   \nfreq    10039  10040           8714    842             326   \nmean      NaN    NaN            NaN    NaN             NaN   \nstd       NaN    NaN            NaN    NaN             NaN   \nmin       NaN    NaN            NaN    NaN             NaN   \n25%       NaN    NaN            NaN    NaN             NaN   \n50%       NaN    NaN            NaN    NaN             NaN   \n75%       NaN    NaN            NaN    NaN             NaN   \nmax       NaN    NaN            NaN    NaN             NaN   \n\n               Current Ver Android Ver  \ncount                10833       10838  \nunique                2832          33  \ntop     Varies with device  4.1 and up  \nfreq                  1459        2451  \nmean                   NaN         NaN  \nstd                    NaN         NaN  \nmin                    NaN         NaN  \n25%                    NaN         NaN  \n50%                    NaN         NaN  \n75%                    NaN         NaN  \nmax                    NaN         NaN  ",
      "text/html": "<div>\n<style scoped>\n    .dataframe tbody tr th:only-of-type {\n        vertical-align: middle;\n    }\n\n    .dataframe tbody tr th {\n        vertical-align: top;\n    }\n\n    .dataframe thead th {\n        text-align: right;\n    }\n</style>\n<table border=\"1\" class=\"dataframe\">\n  <thead>\n    <tr style=\"text-align: right;\">\n      <th></th>\n      <th>App</th>\n      <th>Category</th>\n      <th>Rating</th>\n      <th>Reviews</th>\n      <th>Size</th>\n      <th>Installs</th>\n      <th>Type</th>\n      <th>Price</th>\n      <th>Content Rating</th>\n      <th>Genres</th>\n      <th>Last Updated</th>\n      <th>Current Ver</th>\n      <th>Android Ver</th>\n    </tr>\n  </thead>\n  <tbody>\n    <tr>\n      <th>count</th>\n      <td>10841</td>\n      <td>10841</td>\n      <td>9367.000000</td>\n      <td>10841</td>\n      <td>10841</td>\n      <td>10841</td>\n      <td>10840</td>\n      <td>10841</td>\n      <td>10840</td>\n      <td>10841</td>\n      <td>10841</td>\n      <td>10833</td>\n      <td>10838</td>\n    </tr>\n    <tr>\n      <th>unique</th>\n      <td>9660</td>\n      <td>34</td>\n      <td>NaN</td>\n      <td>6002</td>\n      <td>462</td>\n      <td>22</td>\n      <td>3</td>\n      <td>93</td>\n      <td>6</td>\n      <td>120</td>\n      <td>1378</td>\n      <td>2832</td>\n      <td>33</td>\n    </tr>\n    <tr>\n      <th>top</th>\n      <td>ROBLOX</td>\n      <td>FAMILY</td>\n      <td>NaN</td>\n      <td>0</td>\n      <td>Varies with device</td>\n      <td>1,000,000+</td>\n      <td>Free</td>\n      <td>0</td>\n      <td>Everyone</td>\n      <td>Tools</td>\n      <td>August 3, 2018</td>\n      <td>Varies with device</td>\n      <td>4.1 and up</td>\n    </tr>\n    <tr>\n      <th>freq</th>\n      <td>9</td>\n      <td>1972</td>\n      <td>NaN</td>\n      <td>596</td>\n      <td>1695</td>\n      <td>1579</td>\n      <td>10039</td>\n      <td>10040</td>\n      <td>8714</td>\n      <td>842</td>\n      <td>326</td>\n      <td>1459</td>\n      <td>2451</td>\n    </tr>\n    <tr>\n      <th>mean</th>\n      <td>NaN</td>\n      <td>NaN</td>\n      <td>4.193338</td>\n      <td>NaN</td>\n      <td>NaN</td>\n      <td>NaN</td>\n      <td>NaN</td>\n      <td>NaN</td>\n      <td>NaN</td>\n      <td>NaN</td>\n      <td>NaN</td>\n      <td>NaN</td>\n      <td>NaN</td>\n    </tr>\n    <tr>\n      <th>std</th>\n      <td>NaN</td>\n      <td>NaN</td>\n      <td>0.537431</td>\n      <td>NaN</td>\n      <td>NaN</td>\n      <td>NaN</td>\n      <td>NaN</td>\n      <td>NaN</td>\n      <td>NaN</td>\n      <td>NaN</td>\n      <td>NaN</td>\n      <td>NaN</td>\n      <td>NaN</td>\n    </tr>\n    <tr>\n      <th>min</th>\n      <td>NaN</td>\n      <td>NaN</td>\n      <td>1.000000</td>\n      <td>NaN</td>\n      <td>NaN</td>\n      <td>NaN</td>\n      <td>NaN</td>\n      <td>NaN</td>\n      <td>NaN</td>\n      <td>NaN</td>\n      <td>NaN</td>\n      <td>NaN</td>\n      <td>NaN</td>\n    </tr>\n    <tr>\n      <th>25%</th>\n      <td>NaN</td>\n      <td>NaN</td>\n      <td>4.000000</td>\n      <td>NaN</td>\n      <td>NaN</td>\n      <td>NaN</td>\n      <td>NaN</td>\n      <td>NaN</td>\n      <td>NaN</td>\n      <td>NaN</td>\n      <td>NaN</td>\n      <td>NaN</td>\n      <td>NaN</td>\n    </tr>\n    <tr>\n      <th>50%</th>\n      <td>NaN</td>\n      <td>NaN</td>\n      <td>4.300000</td>\n      <td>NaN</td>\n      <td>NaN</td>\n      <td>NaN</td>\n      <td>NaN</td>\n      <td>NaN</td>\n      <td>NaN</td>\n      <td>NaN</td>\n      <td>NaN</td>\n      <td>NaN</td>\n      <td>NaN</td>\n    </tr>\n    <tr>\n      <th>75%</th>\n      <td>NaN</td>\n      <td>NaN</td>\n      <td>4.500000</td>\n      <td>NaN</td>\n      <td>NaN</td>\n      <td>NaN</td>\n      <td>NaN</td>\n      <td>NaN</td>\n      <td>NaN</td>\n      <td>NaN</td>\n      <td>NaN</td>\n      <td>NaN</td>\n      <td>NaN</td>\n    </tr>\n    <tr>\n      <th>max</th>\n      <td>NaN</td>\n      <td>NaN</td>\n      <td>19.000000</td>\n      <td>NaN</td>\n      <td>NaN</td>\n      <td>NaN</td>\n      <td>NaN</td>\n      <td>NaN</td>\n      <td>NaN</td>\n      <td>NaN</td>\n      <td>NaN</td>\n      <td>NaN</td>\n      <td>NaN</td>\n    </tr>\n  </tbody>\n</table>\n</div>"
     },
     "execution_count": 29,
     "metadata": {},
     "output_type": "execute_result"
    }
   ],
   "source": [
    "data.describe(include='all')"
   ],
   "metadata": {
    "collapsed": false,
    "ExecuteTime": {
     "end_time": "2023-09-15T11:16:00.923849900Z",
     "start_time": "2023-09-15T11:16:00.863387800Z"
    }
   },
   "id": "12061ffcab156cb6"
  },
  {
   "cell_type": "markdown",
   "source": [
    "6. Total Number of App Titles Contain Astrology"
   ],
   "metadata": {
    "collapsed": false
   },
   "id": "3bb719c750e9167c"
  },
  {
   "cell_type": "code",
   "execution_count": 30,
   "outputs": [
    {
     "data": {
      "text/plain": "                                                 App        Category  Rating  \\\n0     Photo Editor & Candy Camera & Grid & ScrapBook  ART_AND_DESIGN     4.1   \n1                                Coloring book moana  ART_AND_DESIGN     3.9   \n2  U Launcher Lite – FREE Live Cool Themes, Hide ...  ART_AND_DESIGN     4.7   \n3                              Sketch - Draw & Paint  ART_AND_DESIGN     4.5   \n4              Pixel Draw - Number Art Coloring Book  ART_AND_DESIGN     4.3   \n\n  Reviews  Size     Installs  Type Price Content Rating  \\\n0     159   19M      10,000+  Free     0       Everyone   \n1     967   14M     500,000+  Free     0       Everyone   \n2   87510  8.7M   5,000,000+  Free     0       Everyone   \n3  215644   25M  50,000,000+  Free     0           Teen   \n4     967  2.8M     100,000+  Free     0       Everyone   \n\n                      Genres      Last Updated         Current Ver  \\\n0               Art & Design   January 7, 2018               1.0.0   \n1  Art & Design;Pretend Play  January 15, 2018               2.0.0   \n2               Art & Design    August 1, 2018               1.2.4   \n3               Art & Design      June 8, 2018  Varies with device   \n4    Art & Design;Creativity     June 20, 2018                 1.1   \n\n    Android Ver  \n0  4.0.3 and up  \n1  4.0.3 and up  \n2  4.0.3 and up  \n3    4.2 and up  \n4    4.4 and up  ",
      "text/html": "<div>\n<style scoped>\n    .dataframe tbody tr th:only-of-type {\n        vertical-align: middle;\n    }\n\n    .dataframe tbody tr th {\n        vertical-align: top;\n    }\n\n    .dataframe thead th {\n        text-align: right;\n    }\n</style>\n<table border=\"1\" class=\"dataframe\">\n  <thead>\n    <tr style=\"text-align: right;\">\n      <th></th>\n      <th>App</th>\n      <th>Category</th>\n      <th>Rating</th>\n      <th>Reviews</th>\n      <th>Size</th>\n      <th>Installs</th>\n      <th>Type</th>\n      <th>Price</th>\n      <th>Content Rating</th>\n      <th>Genres</th>\n      <th>Last Updated</th>\n      <th>Current Ver</th>\n      <th>Android Ver</th>\n    </tr>\n  </thead>\n  <tbody>\n    <tr>\n      <th>0</th>\n      <td>Photo Editor &amp; Candy Camera &amp; Grid &amp; ScrapBook</td>\n      <td>ART_AND_DESIGN</td>\n      <td>4.1</td>\n      <td>159</td>\n      <td>19M</td>\n      <td>10,000+</td>\n      <td>Free</td>\n      <td>0</td>\n      <td>Everyone</td>\n      <td>Art &amp; Design</td>\n      <td>January 7, 2018</td>\n      <td>1.0.0</td>\n      <td>4.0.3 and up</td>\n    </tr>\n    <tr>\n      <th>1</th>\n      <td>Coloring book moana</td>\n      <td>ART_AND_DESIGN</td>\n      <td>3.9</td>\n      <td>967</td>\n      <td>14M</td>\n      <td>500,000+</td>\n      <td>Free</td>\n      <td>0</td>\n      <td>Everyone</td>\n      <td>Art &amp; Design;Pretend Play</td>\n      <td>January 15, 2018</td>\n      <td>2.0.0</td>\n      <td>4.0.3 and up</td>\n    </tr>\n    <tr>\n      <th>2</th>\n      <td>U Launcher Lite – FREE Live Cool Themes, Hide ...</td>\n      <td>ART_AND_DESIGN</td>\n      <td>4.7</td>\n      <td>87510</td>\n      <td>8.7M</td>\n      <td>5,000,000+</td>\n      <td>Free</td>\n      <td>0</td>\n      <td>Everyone</td>\n      <td>Art &amp; Design</td>\n      <td>August 1, 2018</td>\n      <td>1.2.4</td>\n      <td>4.0.3 and up</td>\n    </tr>\n    <tr>\n      <th>3</th>\n      <td>Sketch - Draw &amp; Paint</td>\n      <td>ART_AND_DESIGN</td>\n      <td>4.5</td>\n      <td>215644</td>\n      <td>25M</td>\n      <td>50,000,000+</td>\n      <td>Free</td>\n      <td>0</td>\n      <td>Teen</td>\n      <td>Art &amp; Design</td>\n      <td>June 8, 2018</td>\n      <td>Varies with device</td>\n      <td>4.2 and up</td>\n    </tr>\n    <tr>\n      <th>4</th>\n      <td>Pixel Draw - Number Art Coloring Book</td>\n      <td>ART_AND_DESIGN</td>\n      <td>4.3</td>\n      <td>967</td>\n      <td>2.8M</td>\n      <td>100,000+</td>\n      <td>Free</td>\n      <td>0</td>\n      <td>Everyone</td>\n      <td>Art &amp; Design;Creativity</td>\n      <td>June 20, 2018</td>\n      <td>1.1</td>\n      <td>4.4 and up</td>\n    </tr>\n  </tbody>\n</table>\n</div>"
     },
     "execution_count": 30,
     "metadata": {},
     "output_type": "execute_result"
    }
   ],
   "source": [
    "data.head(5)"
   ],
   "metadata": {
    "collapsed": false,
    "ExecuteTime": {
     "end_time": "2023-09-15T11:16:05.768107200Z",
     "start_time": "2023-09-15T11:16:05.757518800Z"
    }
   },
   "id": "f19e1cc7ec8ad784"
  },
  {
   "cell_type": "code",
   "execution_count": 34,
   "outputs": [
    {
     "data": {
      "text/plain": "3"
     },
     "execution_count": 34,
     "metadata": {},
     "output_type": "execute_result"
    }
   ],
   "source": [
    "len(data[data['App'].str.contains('Astrology',case=False)])"
   ],
   "metadata": {
    "collapsed": false,
    "ExecuteTime": {
     "end_time": "2023-09-15T11:17:38.766931200Z",
     "start_time": "2023-09-15T11:17:38.745477600Z"
    }
   },
   "id": "8fa2c8049568f698"
  },
  {
   "cell_type": "markdown",
   "source": [
    "7. Find Average App Rating"
   ],
   "metadata": {
    "collapsed": false
   },
   "id": "8b5552b115d09c3c"
  },
  {
   "cell_type": "code",
   "execution_count": 35,
   "outputs": [
    {
     "data": {
      "text/plain": "Index(['App', 'Category', 'Rating', 'Reviews', 'Size', 'Installs', 'Type',\n       'Price', 'Content Rating', 'Genres', 'Last Updated', 'Current Ver',\n       'Android Ver'],\n      dtype='object')"
     },
     "execution_count": 35,
     "metadata": {},
     "output_type": "execute_result"
    }
   ],
   "source": [
    "data.columns"
   ],
   "metadata": {
    "collapsed": false,
    "ExecuteTime": {
     "end_time": "2023-09-15T11:20:53.192368Z",
     "start_time": "2023-09-15T11:20:53.174262Z"
    }
   },
   "id": "d0a634b2c62aa780"
  },
  {
   "cell_type": "code",
   "execution_count": 36,
   "outputs": [
    {
     "data": {
      "text/plain": "0        4.1\n1        3.9\n2        4.7\n3        4.5\n4        4.3\n        ... \n10836    4.5\n10837    5.0\n10838    NaN\n10839    4.5\n10840    4.5\nName: Rating, Length: 10841, dtype: float64"
     },
     "execution_count": 36,
     "metadata": {},
     "output_type": "execute_result"
    }
   ],
   "source": [
    "data['Rating']"
   ],
   "metadata": {
    "collapsed": false,
    "ExecuteTime": {
     "end_time": "2023-09-15T11:21:11.133514100Z",
     "start_time": "2023-09-15T11:21:11.054836100Z"
    }
   },
   "id": "6fef894e74f895ca"
  },
  {
   "cell_type": "code",
   "execution_count": 37,
   "outputs": [
    {
     "data": {
      "text/plain": "4.193338315362443"
     },
     "execution_count": 37,
     "metadata": {},
     "output_type": "execute_result"
    }
   ],
   "source": [
    "data['Rating'].mean()"
   ],
   "metadata": {
    "collapsed": false,
    "ExecuteTime": {
     "end_time": "2023-09-15T11:21:26.427670200Z",
     "start_time": "2023-09-15T11:21:26.406668300Z"
    }
   },
   "id": "203f1bb1f8f4d49c"
  },
  {
   "cell_type": "markdown",
   "source": [
    "8.  Find Total Number of Unique Category"
   ],
   "metadata": {
    "collapsed": false
   },
   "id": "cce3307e1236ea97"
  },
  {
   "cell_type": "code",
   "execution_count": 38,
   "outputs": [
    {
     "data": {
      "text/plain": "Index(['App', 'Category', 'Rating', 'Reviews', 'Size', 'Installs', 'Type',\n       'Price', 'Content Rating', 'Genres', 'Last Updated', 'Current Ver',\n       'Android Ver'],\n      dtype='object')"
     },
     "execution_count": 38,
     "metadata": {},
     "output_type": "execute_result"
    }
   ],
   "source": [
    "data.columns"
   ],
   "metadata": {
    "collapsed": false,
    "ExecuteTime": {
     "end_time": "2023-09-15T11:21:46.841456400Z",
     "start_time": "2023-09-15T11:21:46.823504800Z"
    }
   },
   "id": "f5f832a56c80186c"
  },
  {
   "cell_type": "code",
   "execution_count": 40,
   "outputs": [
    {
     "data": {
      "text/plain": "34"
     },
     "execution_count": 40,
     "metadata": {},
     "output_type": "execute_result"
    }
   ],
   "source": [
    "data['Category'].nunique()"
   ],
   "metadata": {
    "collapsed": false,
    "ExecuteTime": {
     "end_time": "2023-09-15T11:23:37.865041400Z",
     "start_time": "2023-09-15T11:23:37.848464500Z"
    }
   },
   "id": "a6a488408d7affb3"
  },
  {
   "cell_type": "markdown",
   "source": [
    "9. Which Category Getting The Highest Average Rating?"
   ],
   "metadata": {
    "collapsed": false
   },
   "id": "e511629e03493198"
  },
  {
   "cell_type": "code",
   "execution_count": 43,
   "outputs": [
    {
     "data": {
      "text/plain": "Category\n1.9                    19.000000\nEVENTS                  4.435556\nEDUCATION               4.389032\nART_AND_DESIGN          4.358065\nBOOKS_AND_REFERENCE     4.346067\nPERSONALIZATION         4.335987\nPARENTING               4.300000\nGAME                    4.286326\nBEAUTY                  4.278571\nHEALTH_AND_FITNESS      4.277104\nSHOPPING                4.259664\nSOCIAL                  4.255598\nWEATHER                 4.244000\nSPORTS                  4.223511\nPRODUCTIVITY            4.211396\nHOUSE_AND_HOME          4.197368\nFAMILY                  4.192272\nPHOTOGRAPHY             4.192114\nAUTO_AND_VEHICLES       4.190411\nMEDICAL                 4.189143\nLIBRARIES_AND_DEMO      4.178462\nFOOD_AND_DRINK          4.166972\nCOMMUNICATION           4.158537\nCOMICS                  4.155172\nNEWS_AND_MAGAZINES      4.132189\nFINANCE                 4.131889\nENTERTAINMENT           4.126174\nBUSINESS                4.121452\nTRAVEL_AND_LOCAL        4.109292\nLIFESTYLE               4.094904\nVIDEO_PLAYERS           4.063750\nMAPS_AND_NAVIGATION     4.051613\nTOOLS                   4.047411\nDATING                  3.970769\nName: Rating, dtype: float64"
     },
     "execution_count": 43,
     "metadata": {},
     "output_type": "execute_result"
    }
   ],
   "source": [
    "data.groupby('Category')['Rating'].mean().sort_values(ascending=False)"
   ],
   "metadata": {
    "collapsed": false,
    "ExecuteTime": {
     "end_time": "2023-09-15T11:25:09.896333400Z",
     "start_time": "2023-09-15T11:25:09.868987100Z"
    }
   },
   "id": "a9e7bf2d57dd6a6d"
  },
  {
   "cell_type": "markdown",
   "source": [
    "10. Find Total Number of App having 5 Star Rating"
   ],
   "metadata": {
    "collapsed": false
   },
   "id": "c7a9ec5f54178a4d"
  },
  {
   "cell_type": "code",
   "execution_count": 45,
   "outputs": [
    {
     "data": {
      "text/plain": "Index(['App', 'Category', 'Rating', 'Reviews', 'Size', 'Installs', 'Type',\n       'Price', 'Content Rating', 'Genres', 'Last Updated', 'Current Ver',\n       'Android Ver'],\n      dtype='object')"
     },
     "execution_count": 45,
     "metadata": {},
     "output_type": "execute_result"
    }
   ],
   "source": [
    "data.columns"
   ],
   "metadata": {
    "collapsed": false,
    "ExecuteTime": {
     "end_time": "2023-09-15T11:26:31.427899700Z",
     "start_time": "2023-09-15T11:26:31.409260600Z"
    }
   },
   "id": "73c236d9a53964c4"
  },
  {
   "cell_type": "code",
   "execution_count": 46,
   "outputs": [
    {
     "data": {
      "text/plain": "0        4.1\n1        3.9\n2        4.7\n3        4.5\n4        4.3\n        ... \n10836    4.5\n10837    5.0\n10838    NaN\n10839    4.5\n10840    4.5\nName: Rating, Length: 10841, dtype: float64"
     },
     "execution_count": 46,
     "metadata": {},
     "output_type": "execute_result"
    }
   ],
   "source": [
    "data['Rating']"
   ],
   "metadata": {
    "collapsed": false,
    "ExecuteTime": {
     "end_time": "2023-09-15T11:29:15.154244800Z",
     "start_time": "2023-09-15T11:29:15.120977200Z"
    }
   },
   "id": "40a5eefe2e13d556"
  },
  {
   "cell_type": "code",
   "execution_count": 52,
   "outputs": [
    {
     "data": {
      "text/plain": "274"
     },
     "execution_count": 52,
     "metadata": {},
     "output_type": "execute_result"
    }
   ],
   "source": [
    "sum(data['Rating']==5.0)"
   ],
   "metadata": {
    "collapsed": false,
    "ExecuteTime": {
     "end_time": "2023-09-15T11:30:50.481004400Z",
     "start_time": "2023-09-15T11:30:50.436264Z"
    }
   },
   "id": "73fa2e4b124589b8"
  },
  {
   "cell_type": "markdown",
   "source": [
    "11. Find Average Value of Reviews"
   ],
   "metadata": {
    "collapsed": false
   },
   "id": "710d52188862a074"
  },
  {
   "cell_type": "code",
   "execution_count": 53,
   "outputs": [
    {
     "data": {
      "text/plain": "Index(['App', 'Category', 'Rating', 'Reviews', 'Size', 'Installs', 'Type',\n       'Price', 'Content Rating', 'Genres', 'Last Updated', 'Current Ver',\n       'Android Ver'],\n      dtype='object')"
     },
     "execution_count": 53,
     "metadata": {},
     "output_type": "execute_result"
    }
   ],
   "source": [
    "data.columns"
   ],
   "metadata": {
    "collapsed": false,
    "ExecuteTime": {
     "end_time": "2023-09-15T11:35:46.454461400Z",
     "start_time": "2023-09-15T11:35:46.435156Z"
    }
   },
   "id": "7e95b9d483c9f8b6"
  },
  {
   "cell_type": "code",
   "execution_count": 55,
   "outputs": [
    {
     "data": {
      "text/plain": "dtype('O')"
     },
     "execution_count": 55,
     "metadata": {},
     "output_type": "execute_result"
    }
   ],
   "source": [
    "data['Reviews'].dtype"
   ],
   "metadata": {
    "collapsed": false,
    "ExecuteTime": {
     "end_time": "2023-09-15T11:36:03.068382500Z",
     "start_time": "2023-09-15T11:36:03.051655Z"
    }
   },
   "id": "f5a75ab9ae3ebadc"
  },
  {
   "cell_type": "code",
   "execution_count": 56,
   "outputs": [],
   "source": [
    "data['Reviews']=data['Reviews'].replace('3.0M',3.0)"
   ],
   "metadata": {
    "collapsed": false,
    "ExecuteTime": {
     "end_time": "2023-09-15T11:38:38.282508Z",
     "start_time": "2023-09-15T11:38:38.241234100Z"
    }
   },
   "id": "163a02e577477d98"
  },
  {
   "cell_type": "code",
   "execution_count": 57,
   "outputs": [],
   "source": [
    "data['Reviews']=data['Reviews'].astype('float')"
   ],
   "metadata": {
    "collapsed": false,
    "ExecuteTime": {
     "end_time": "2023-09-15T11:39:39.680412600Z",
     "start_time": "2023-09-15T11:39:39.661600600Z"
    }
   },
   "id": "ee754a3ab1783d5b"
  },
  {
   "cell_type": "code",
   "execution_count": 58,
   "outputs": [
    {
     "data": {
      "text/plain": "dtype('float64')"
     },
     "execution_count": 58,
     "metadata": {},
     "output_type": "execute_result"
    }
   ],
   "source": [
    "data['Reviews'].dtype"
   ],
   "metadata": {
    "collapsed": false,
    "ExecuteTime": {
     "end_time": "2023-09-15T11:39:50.730683400Z",
     "start_time": "2023-09-15T11:39:50.714797600Z"
    }
   },
   "id": "5ddbde5b620db6e2"
  },
  {
   "cell_type": "code",
   "execution_count": 59,
   "outputs": [
    {
     "data": {
      "text/plain": "444111.9265750392"
     },
     "execution_count": 59,
     "metadata": {},
     "output_type": "execute_result"
    }
   ],
   "source": [
    "data['Reviews'].mean()"
   ],
   "metadata": {
    "collapsed": false,
    "ExecuteTime": {
     "end_time": "2023-09-15T11:40:15.928340800Z",
     "start_time": "2023-09-15T11:40:15.909411200Z"
    }
   },
   "id": "1bcccb9bc409da"
  },
  {
   "cell_type": "markdown",
   "source": [
    "12. Find Total Number of Free and Paid Apps"
   ],
   "metadata": {
    "collapsed": false
   },
   "id": "218b1f22c7452ca"
  },
  {
   "cell_type": "code",
   "execution_count": 60,
   "outputs": [
    {
     "data": {
      "text/plain": "Index(['App', 'Category', 'Rating', 'Reviews', 'Size', 'Installs', 'Type',\n       'Price', 'Content Rating', 'Genres', 'Last Updated', 'Current Ver',\n       'Android Ver'],\n      dtype='object')"
     },
     "execution_count": 60,
     "metadata": {},
     "output_type": "execute_result"
    }
   ],
   "source": [
    "data.columns"
   ],
   "metadata": {
    "collapsed": false,
    "ExecuteTime": {
     "end_time": "2023-09-15T11:41:29.075373800Z",
     "start_time": "2023-09-15T11:41:29.055455700Z"
    }
   },
   "id": "84afae6b85b1233d"
  },
  {
   "cell_type": "code",
   "execution_count": 62,
   "outputs": [
    {
     "data": {
      "text/plain": "0        Free\n1        Free\n2        Free\n3        Free\n4        Free\n         ... \n10836    Free\n10837    Free\n10838    Free\n10839    Free\n10840    Free\nName: Type, Length: 10841, dtype: object"
     },
     "execution_count": 62,
     "metadata": {},
     "output_type": "execute_result"
    }
   ],
   "source": [
    "data['Type']"
   ],
   "metadata": {
    "collapsed": false,
    "ExecuteTime": {
     "end_time": "2023-09-15T11:44:08.107872Z",
     "start_time": "2023-09-15T11:44:08.093640600Z"
    }
   },
   "id": "730d864737ec34fe"
  },
  {
   "cell_type": "code",
   "execution_count": 63,
   "outputs": [
    {
     "data": {
      "text/plain": "Free    10039\nPaid      800\n0           1\nName: Type, dtype: int64"
     },
     "execution_count": 63,
     "metadata": {},
     "output_type": "execute_result"
    }
   ],
   "source": [
    "data['Type'].value_counts()"
   ],
   "metadata": {
    "collapsed": false,
    "ExecuteTime": {
     "end_time": "2023-09-15T11:45:37.430265300Z",
     "start_time": "2023-09-15T11:45:37.398912400Z"
    }
   },
   "id": "d008e9f47859a786"
  },
  {
   "cell_type": "markdown",
   "source": [
    "13. Which App Has Maximum Reviews?\n"
   ],
   "metadata": {
    "collapsed": false
   },
   "id": "63f81f1be20d83e2"
  },
  {
   "cell_type": "code",
   "execution_count": 73,
   "outputs": [
    {
     "data": {
      "text/plain": "2544    Facebook\nName: App, dtype: object"
     },
     "execution_count": 73,
     "metadata": {},
     "output_type": "execute_result"
    }
   ],
   "source": [
    "data[data['Reviews'].max()==data[\"Reviews\"]]['App']"
   ],
   "metadata": {
    "collapsed": false,
    "ExecuteTime": {
     "end_time": "2023-09-15T11:50:02.994827200Z",
     "start_time": "2023-09-15T11:50:02.976503800Z"
    }
   },
   "id": "1f6a770e02776a99"
  },
  {
   "cell_type": "markdown",
   "source": [
    "14. Display Top 5 Apps Having Highest Reviews"
   ],
   "metadata": {
    "collapsed": false
   },
   "id": "77ba21621ddd5e2e"
  },
  {
   "cell_type": "code",
   "execution_count": 77,
   "outputs": [],
   "source": [
    "index=data['Reviews'].sort_values(ascending=False).head().index"
   ],
   "metadata": {
    "collapsed": false,
    "ExecuteTime": {
     "end_time": "2023-09-15T11:55:27.083287300Z",
     "start_time": "2023-09-15T11:55:27.062781600Z"
    }
   },
   "id": "72d4f9605e3adaf1"
  },
  {
   "cell_type": "code",
   "execution_count": 79,
   "outputs": [
    {
     "data": {
      "text/plain": "2544              Facebook\n3943              Facebook\n381     WhatsApp Messenger\n336     WhatsApp Messenger\n3904    WhatsApp Messenger\nName: App, dtype: object"
     },
     "execution_count": 79,
     "metadata": {},
     "output_type": "execute_result"
    }
   ],
   "source": [
    "data.iloc[index]['App']"
   ],
   "metadata": {
    "collapsed": false,
    "ExecuteTime": {
     "end_time": "2023-09-15T11:55:36.177264300Z",
     "start_time": "2023-09-15T11:55:36.159257900Z"
    }
   },
   "id": "8af43f68cfdba483"
  },
  {
   "cell_type": "markdown",
   "source": [
    "15. Find Average Rating of Free and Paid Apps"
   ],
   "metadata": {
    "collapsed": false
   },
   "id": "eb79a42a351c0dc7"
  },
  {
   "cell_type": "code",
   "execution_count": 81,
   "outputs": [
    {
     "data": {
      "text/plain": "Type\n0       19.000000\nFree     4.186203\nPaid     4.266615\nName: Rating, dtype: float64"
     },
     "execution_count": 81,
     "metadata": {},
     "output_type": "execute_result"
    }
   ],
   "source": [
    "data.groupby('Type')['Rating'].mean()"
   ],
   "metadata": {
    "collapsed": false,
    "ExecuteTime": {
     "end_time": "2023-09-15T11:58:25.025451600Z",
     "start_time": "2023-09-15T11:58:24.977633700Z"
    }
   },
   "id": "8b8da60df04b49d8"
  },
  {
   "cell_type": "markdown",
   "source": [
    "16. Display Top  5 Apps Having Maximum Installs"
   ],
   "metadata": {
    "collapsed": false
   },
   "id": "3db4beea0add2a10"
  },
  {
   "cell_type": "code",
   "execution_count": 82,
   "outputs": [
    {
     "data": {
      "text/plain": "                                              App        Category  Rating  \\\n0  Photo Editor & Candy Camera & Grid & ScrapBook  ART_AND_DESIGN     4.1   \n\n   Reviews Size Installs  Type Price Content Rating        Genres  \\\n0    159.0  19M  10,000+  Free     0       Everyone  Art & Design   \n\n      Last Updated Current Ver   Android Ver  \n0  January 7, 2018       1.0.0  4.0.3 and up  ",
      "text/html": "<div>\n<style scoped>\n    .dataframe tbody tr th:only-of-type {\n        vertical-align: middle;\n    }\n\n    .dataframe tbody tr th {\n        vertical-align: top;\n    }\n\n    .dataframe thead th {\n        text-align: right;\n    }\n</style>\n<table border=\"1\" class=\"dataframe\">\n  <thead>\n    <tr style=\"text-align: right;\">\n      <th></th>\n      <th>App</th>\n      <th>Category</th>\n      <th>Rating</th>\n      <th>Reviews</th>\n      <th>Size</th>\n      <th>Installs</th>\n      <th>Type</th>\n      <th>Price</th>\n      <th>Content Rating</th>\n      <th>Genres</th>\n      <th>Last Updated</th>\n      <th>Current Ver</th>\n      <th>Android Ver</th>\n    </tr>\n  </thead>\n  <tbody>\n    <tr>\n      <th>0</th>\n      <td>Photo Editor &amp; Candy Camera &amp; Grid &amp; ScrapBook</td>\n      <td>ART_AND_DESIGN</td>\n      <td>4.1</td>\n      <td>159.0</td>\n      <td>19M</td>\n      <td>10,000+</td>\n      <td>Free</td>\n      <td>0</td>\n      <td>Everyone</td>\n      <td>Art &amp; Design</td>\n      <td>January 7, 2018</td>\n      <td>1.0.0</td>\n      <td>4.0.3 and up</td>\n    </tr>\n  </tbody>\n</table>\n</div>"
     },
     "execution_count": 82,
     "metadata": {},
     "output_type": "execute_result"
    }
   ],
   "source": [
    "data.head(1)"
   ],
   "metadata": {
    "collapsed": false,
    "ExecuteTime": {
     "end_time": "2023-09-15T12:02:35.189512900Z",
     "start_time": "2023-09-15T12:02:35.160241100Z"
    }
   },
   "id": "fcb10ccca9f7bdd7"
  },
  {
   "cell_type": "code",
   "execution_count": 86,
   "outputs": [],
   "source": [
    "data['Installs_1']=data['Installs'].str.replace(',','')"
   ],
   "metadata": {
    "collapsed": false,
    "ExecuteTime": {
     "end_time": "2023-09-15T12:04:46.298171500Z",
     "start_time": "2023-09-15T12:04:46.264210900Z"
    }
   },
   "id": "405bfa2e354a09b8"
  },
  {
   "cell_type": "code",
   "execution_count": 87,
   "outputs": [
    {
     "name": "stderr",
     "output_type": "stream",
     "text": [
      "C:\\Users\\shash\\AppData\\Local\\Temp\\ipykernel_13064\\3286332381.py:1: FutureWarning: The default value of regex will change from True to False in a future version. In addition, single character regular expressions will *not* be treated as literal strings when regex=True.\n",
      "  data['Installs1']=data['Installs_1'].str.replace('+','')\n"
     ]
    }
   ],
   "source": [
    "data['Installs1']=data['Installs_1'].str.replace('+','')"
   ],
   "metadata": {
    "collapsed": false,
    "ExecuteTime": {
     "end_time": "2023-09-15T12:04:47.128115400Z",
     "start_time": "2023-09-15T12:04:47.104227900Z"
    }
   },
   "id": "9250a8d9b0a837a"
  },
  {
   "cell_type": "code",
   "execution_count": 88,
   "outputs": [
    {
     "data": {
      "text/plain": "                                                 App        Category  Rating  \\\n0     Photo Editor & Candy Camera & Grid & ScrapBook  ART_AND_DESIGN     4.1   \n1                                Coloring book moana  ART_AND_DESIGN     3.9   \n2  U Launcher Lite – FREE Live Cool Themes, Hide ...  ART_AND_DESIGN     4.7   \n3                              Sketch - Draw & Paint  ART_AND_DESIGN     4.5   \n4              Pixel Draw - Number Art Coloring Book  ART_AND_DESIGN     4.3   \n\n    Reviews  Size     Installs  Type Price Content Rating  \\\n0     159.0   19M      10,000+  Free     0       Everyone   \n1     967.0   14M     500,000+  Free     0       Everyone   \n2   87510.0  8.7M   5,000,000+  Free     0       Everyone   \n3  215644.0   25M  50,000,000+  Free     0           Teen   \n4     967.0  2.8M     100,000+  Free     0       Everyone   \n\n                      Genres      Last Updated         Current Ver  \\\n0               Art & Design   January 7, 2018               1.0.0   \n1  Art & Design;Pretend Play  January 15, 2018               2.0.0   \n2               Art & Design    August 1, 2018               1.2.4   \n3               Art & Design      June 8, 2018  Varies with device   \n4    Art & Design;Creativity     June 20, 2018                 1.1   \n\n    Android Ver Installs_1 Installs1  \n0  4.0.3 and up     10000+     10000  \n1  4.0.3 and up    500000+    500000  \n2  4.0.3 and up   5000000+   5000000  \n3    4.2 and up  50000000+  50000000  \n4    4.4 and up    100000+    100000  ",
      "text/html": "<div>\n<style scoped>\n    .dataframe tbody tr th:only-of-type {\n        vertical-align: middle;\n    }\n\n    .dataframe tbody tr th {\n        vertical-align: top;\n    }\n\n    .dataframe thead th {\n        text-align: right;\n    }\n</style>\n<table border=\"1\" class=\"dataframe\">\n  <thead>\n    <tr style=\"text-align: right;\">\n      <th></th>\n      <th>App</th>\n      <th>Category</th>\n      <th>Rating</th>\n      <th>Reviews</th>\n      <th>Size</th>\n      <th>Installs</th>\n      <th>Type</th>\n      <th>Price</th>\n      <th>Content Rating</th>\n      <th>Genres</th>\n      <th>Last Updated</th>\n      <th>Current Ver</th>\n      <th>Android Ver</th>\n      <th>Installs_1</th>\n      <th>Installs1</th>\n    </tr>\n  </thead>\n  <tbody>\n    <tr>\n      <th>0</th>\n      <td>Photo Editor &amp; Candy Camera &amp; Grid &amp; ScrapBook</td>\n      <td>ART_AND_DESIGN</td>\n      <td>4.1</td>\n      <td>159.0</td>\n      <td>19M</td>\n      <td>10,000+</td>\n      <td>Free</td>\n      <td>0</td>\n      <td>Everyone</td>\n      <td>Art &amp; Design</td>\n      <td>January 7, 2018</td>\n      <td>1.0.0</td>\n      <td>4.0.3 and up</td>\n      <td>10000+</td>\n      <td>10000</td>\n    </tr>\n    <tr>\n      <th>1</th>\n      <td>Coloring book moana</td>\n      <td>ART_AND_DESIGN</td>\n      <td>3.9</td>\n      <td>967.0</td>\n      <td>14M</td>\n      <td>500,000+</td>\n      <td>Free</td>\n      <td>0</td>\n      <td>Everyone</td>\n      <td>Art &amp; Design;Pretend Play</td>\n      <td>January 15, 2018</td>\n      <td>2.0.0</td>\n      <td>4.0.3 and up</td>\n      <td>500000+</td>\n      <td>500000</td>\n    </tr>\n    <tr>\n      <th>2</th>\n      <td>U Launcher Lite – FREE Live Cool Themes, Hide ...</td>\n      <td>ART_AND_DESIGN</td>\n      <td>4.7</td>\n      <td>87510.0</td>\n      <td>8.7M</td>\n      <td>5,000,000+</td>\n      <td>Free</td>\n      <td>0</td>\n      <td>Everyone</td>\n      <td>Art &amp; Design</td>\n      <td>August 1, 2018</td>\n      <td>1.2.4</td>\n      <td>4.0.3 and up</td>\n      <td>5000000+</td>\n      <td>5000000</td>\n    </tr>\n    <tr>\n      <th>3</th>\n      <td>Sketch - Draw &amp; Paint</td>\n      <td>ART_AND_DESIGN</td>\n      <td>4.5</td>\n      <td>215644.0</td>\n      <td>25M</td>\n      <td>50,000,000+</td>\n      <td>Free</td>\n      <td>0</td>\n      <td>Teen</td>\n      <td>Art &amp; Design</td>\n      <td>June 8, 2018</td>\n      <td>Varies with device</td>\n      <td>4.2 and up</td>\n      <td>50000000+</td>\n      <td>50000000</td>\n    </tr>\n    <tr>\n      <th>4</th>\n      <td>Pixel Draw - Number Art Coloring Book</td>\n      <td>ART_AND_DESIGN</td>\n      <td>4.3</td>\n      <td>967.0</td>\n      <td>2.8M</td>\n      <td>100,000+</td>\n      <td>Free</td>\n      <td>0</td>\n      <td>Everyone</td>\n      <td>Art &amp; Design;Creativity</td>\n      <td>June 20, 2018</td>\n      <td>1.1</td>\n      <td>4.4 and up</td>\n      <td>100000+</td>\n      <td>100000</td>\n    </tr>\n  </tbody>\n</table>\n</div>"
     },
     "execution_count": 88,
     "metadata": {},
     "output_type": "execute_result"
    }
   ],
   "source": [
    "data.head()"
   ],
   "metadata": {
    "collapsed": false,
    "ExecuteTime": {
     "end_time": "2023-09-15T12:04:49.213875400Z",
     "start_time": "2023-09-15T12:04:49.181898600Z"
    }
   },
   "id": "e159c480787cdbb4"
  },
  {
   "cell_type": "code",
   "execution_count": 89,
   "outputs": [
    {
     "data": {
      "text/plain": "                                           App Category  Rating  Reviews  \\\n10472  Life Made WI-Fi Touchscreen Photo Frame      1.9    19.0      3.0   \n\n         Size Installs Type     Price Content Rating             Genres  \\\n10472  1,000+     Free    0  Everyone            NaN  February 11, 2018   \n\n      Last Updated Current Ver Android Ver Installs_1 Installs1  \n10472       1.0.19  4.0 and up         NaN       Free      Free  ",
      "text/html": "<div>\n<style scoped>\n    .dataframe tbody tr th:only-of-type {\n        vertical-align: middle;\n    }\n\n    .dataframe tbody tr th {\n        vertical-align: top;\n    }\n\n    .dataframe thead th {\n        text-align: right;\n    }\n</style>\n<table border=\"1\" class=\"dataframe\">\n  <thead>\n    <tr style=\"text-align: right;\">\n      <th></th>\n      <th>App</th>\n      <th>Category</th>\n      <th>Rating</th>\n      <th>Reviews</th>\n      <th>Size</th>\n      <th>Installs</th>\n      <th>Type</th>\n      <th>Price</th>\n      <th>Content Rating</th>\n      <th>Genres</th>\n      <th>Last Updated</th>\n      <th>Current Ver</th>\n      <th>Android Ver</th>\n      <th>Installs_1</th>\n      <th>Installs1</th>\n    </tr>\n  </thead>\n  <tbody>\n    <tr>\n      <th>10472</th>\n      <td>Life Made WI-Fi Touchscreen Photo Frame</td>\n      <td>1.9</td>\n      <td>19.0</td>\n      <td>3.0</td>\n      <td>1,000+</td>\n      <td>Free</td>\n      <td>0</td>\n      <td>Everyone</td>\n      <td>NaN</td>\n      <td>February 11, 2018</td>\n      <td>1.0.19</td>\n      <td>4.0 and up</td>\n      <td>NaN</td>\n      <td>Free</td>\n      <td>Free</td>\n    </tr>\n  </tbody>\n</table>\n</div>"
     },
     "execution_count": 89,
     "metadata": {},
     "output_type": "execute_result"
    }
   ],
   "source": [
    "data[data['Installs1']=='Free']"
   ],
   "metadata": {
    "collapsed": false,
    "ExecuteTime": {
     "end_time": "2023-09-15T12:06:08.217482300Z",
     "start_time": "2023-09-15T12:06:08.161599200Z"
    }
   },
   "id": "585a4d074352a65b"
  },
  {
   "cell_type": "code",
   "execution_count": 91,
   "outputs": [],
   "source": [
    "data['Installs1']=data['Installs1'].str.replace('Free','0')"
   ],
   "metadata": {
    "collapsed": false,
    "ExecuteTime": {
     "end_time": "2023-09-15T12:09:01.304764Z",
     "start_time": "2023-09-15T12:09:01.286316700Z"
    }
   },
   "id": "a3c71ded86517da0"
  },
  {
   "cell_type": "code",
   "execution_count": 99,
   "outputs": [],
   "source": [
    "data['Installs1']=data['Installs1'].astype('int')"
   ],
   "metadata": {
    "collapsed": false,
    "ExecuteTime": {
     "end_time": "2023-09-15T12:10:59.103598900Z",
     "start_time": "2023-09-15T12:10:59.066948900Z"
    }
   },
   "id": "634cd2fb32070679"
  },
  {
   "cell_type": "code",
   "execution_count": 100,
   "outputs": [
    {
     "data": {
      "text/plain": "dtype('int32')"
     },
     "execution_count": 100,
     "metadata": {},
     "output_type": "execute_result"
    }
   ],
   "source": [
    "data['Installs1'].dtype"
   ],
   "metadata": {
    "collapsed": false,
    "ExecuteTime": {
     "end_time": "2023-09-15T12:11:01.661324500Z",
     "start_time": "2023-09-15T12:11:01.658320200Z"
    }
   },
   "id": "e6b4152eaa65712e"
  },
  {
   "cell_type": "code",
   "execution_count": 103,
   "outputs": [],
   "source": [
    "index = data['Installs1'].sort_values(ascending=False).head().index"
   ],
   "metadata": {
    "collapsed": false,
    "ExecuteTime": {
     "end_time": "2023-09-15T12:12:02.833205400Z",
     "start_time": "2023-09-15T12:12:02.829739600Z"
    }
   },
   "id": "d2175f119bc4493f"
  },
  {
   "cell_type": "code",
   "execution_count": 105,
   "outputs": [
    {
     "data": {
      "text/plain": "                                           App       Category  Rating  \\\n3896                            Subway Surfers           GAME     4.5   \n3943                                  Facebook         SOCIAL     4.1   \n335   Messenger – Text and Video Chat for Free  COMMUNICATION     4.0   \n3523                              Google Drive   PRODUCTIVITY     4.4   \n3565                              Google Drive   PRODUCTIVITY     4.4   \n\n         Reviews                Size        Installs  Type Price  \\\n3896  27711703.0                 76M  1,000,000,000+  Free     0   \n3943  78128208.0  Varies with device  1,000,000,000+  Free     0   \n335   56642847.0  Varies with device  1,000,000,000+  Free     0   \n3523   2731211.0  Varies with device  1,000,000,000+  Free     0   \n3565   2731211.0  Varies with device  1,000,000,000+  Free     0   \n\n     Content Rating         Genres    Last Updated         Current Ver  \\\n3896   Everyone 10+         Arcade   July 12, 2018              1.90.0   \n3943           Teen         Social  August 3, 2018  Varies with device   \n335        Everyone  Communication  August 1, 2018  Varies with device   \n3523       Everyone   Productivity  August 6, 2018  Varies with device   \n3565       Everyone   Productivity  August 6, 2018  Varies with device   \n\n             Android Ver   Installs_1   Installs1  \n3896          4.1 and up  1000000000+  1000000000  \n3943  Varies with device  1000000000+  1000000000  \n335   Varies with device  1000000000+  1000000000  \n3523  Varies with device  1000000000+  1000000000  \n3565  Varies with device  1000000000+  1000000000  ",
      "text/html": "<div>\n<style scoped>\n    .dataframe tbody tr th:only-of-type {\n        vertical-align: middle;\n    }\n\n    .dataframe tbody tr th {\n        vertical-align: top;\n    }\n\n    .dataframe thead th {\n        text-align: right;\n    }\n</style>\n<table border=\"1\" class=\"dataframe\">\n  <thead>\n    <tr style=\"text-align: right;\">\n      <th></th>\n      <th>App</th>\n      <th>Category</th>\n      <th>Rating</th>\n      <th>Reviews</th>\n      <th>Size</th>\n      <th>Installs</th>\n      <th>Type</th>\n      <th>Price</th>\n      <th>Content Rating</th>\n      <th>Genres</th>\n      <th>Last Updated</th>\n      <th>Current Ver</th>\n      <th>Android Ver</th>\n      <th>Installs_1</th>\n      <th>Installs1</th>\n    </tr>\n  </thead>\n  <tbody>\n    <tr>\n      <th>3896</th>\n      <td>Subway Surfers</td>\n      <td>GAME</td>\n      <td>4.5</td>\n      <td>27711703.0</td>\n      <td>76M</td>\n      <td>1,000,000,000+</td>\n      <td>Free</td>\n      <td>0</td>\n      <td>Everyone 10+</td>\n      <td>Arcade</td>\n      <td>July 12, 2018</td>\n      <td>1.90.0</td>\n      <td>4.1 and up</td>\n      <td>1000000000+</td>\n      <td>1000000000</td>\n    </tr>\n    <tr>\n      <th>3943</th>\n      <td>Facebook</td>\n      <td>SOCIAL</td>\n      <td>4.1</td>\n      <td>78128208.0</td>\n      <td>Varies with device</td>\n      <td>1,000,000,000+</td>\n      <td>Free</td>\n      <td>0</td>\n      <td>Teen</td>\n      <td>Social</td>\n      <td>August 3, 2018</td>\n      <td>Varies with device</td>\n      <td>Varies with device</td>\n      <td>1000000000+</td>\n      <td>1000000000</td>\n    </tr>\n    <tr>\n      <th>335</th>\n      <td>Messenger – Text and Video Chat for Free</td>\n      <td>COMMUNICATION</td>\n      <td>4.0</td>\n      <td>56642847.0</td>\n      <td>Varies with device</td>\n      <td>1,000,000,000+</td>\n      <td>Free</td>\n      <td>0</td>\n      <td>Everyone</td>\n      <td>Communication</td>\n      <td>August 1, 2018</td>\n      <td>Varies with device</td>\n      <td>Varies with device</td>\n      <td>1000000000+</td>\n      <td>1000000000</td>\n    </tr>\n    <tr>\n      <th>3523</th>\n      <td>Google Drive</td>\n      <td>PRODUCTIVITY</td>\n      <td>4.4</td>\n      <td>2731211.0</td>\n      <td>Varies with device</td>\n      <td>1,000,000,000+</td>\n      <td>Free</td>\n      <td>0</td>\n      <td>Everyone</td>\n      <td>Productivity</td>\n      <td>August 6, 2018</td>\n      <td>Varies with device</td>\n      <td>Varies with device</td>\n      <td>1000000000+</td>\n      <td>1000000000</td>\n    </tr>\n    <tr>\n      <th>3565</th>\n      <td>Google Drive</td>\n      <td>PRODUCTIVITY</td>\n      <td>4.4</td>\n      <td>2731211.0</td>\n      <td>Varies with device</td>\n      <td>1,000,000,000+</td>\n      <td>Free</td>\n      <td>0</td>\n      <td>Everyone</td>\n      <td>Productivity</td>\n      <td>August 6, 2018</td>\n      <td>Varies with device</td>\n      <td>Varies with device</td>\n      <td>1000000000+</td>\n      <td>1000000000</td>\n    </tr>\n  </tbody>\n</table>\n</div>"
     },
     "execution_count": 105,
     "metadata": {},
     "output_type": "execute_result"
    }
   ],
   "source": [
    "data.iloc[index]"
   ],
   "metadata": {
    "collapsed": false,
    "ExecuteTime": {
     "end_time": "2023-09-15T12:12:20.367801100Z",
     "start_time": "2023-09-15T12:12:20.361186500Z"
    }
   },
   "id": "9097887a113b58c1"
  },
  {
   "cell_type": "code",
   "execution_count": null,
   "outputs": [],
   "source": [],
   "metadata": {
    "collapsed": false
   },
   "id": "27592b68c9b6687b"
  }
 ],
 "metadata": {
  "kernelspec": {
   "display_name": "Python 3",
   "language": "python",
   "name": "python3"
  },
  "language_info": {
   "codemirror_mode": {
    "name": "ipython",
    "version": 2
   },
   "file_extension": ".py",
   "mimetype": "text/x-python",
   "name": "python",
   "nbconvert_exporter": "python",
   "pygments_lexer": "ipython2",
   "version": "2.7.6"
  }
 },
 "nbformat": 4,
 "nbformat_minor": 5
}
