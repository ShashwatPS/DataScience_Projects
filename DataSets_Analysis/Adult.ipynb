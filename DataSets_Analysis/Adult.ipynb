{
 "cells": [
  {
   "cell_type": "markdown",
   "source": [
    "Importing Libraries"
   ],
   "metadata": {
    "collapsed": false
   },
   "id": "dbdc4ddf452ef903"
  },
  {
   "cell_type": "code",
   "execution_count": null,
   "outputs": [],
   "source": [
    "import pandas as pd\n",
    "import matplotlib.pyplot as plt\n",
    "import seaborn as sns"
   ],
   "metadata": {
    "collapsed": false
   },
   "id": "f8c4edbdcc6b8279"
  },
  {
   "cell_type": "markdown",
   "source": [
    "Reading the CSV File"
   ],
   "metadata": {
    "collapsed": false
   },
   "id": "b90e3ef427f4b96d"
  },
  {
   "cell_type": "code",
   "execution_count": null,
   "outputs": [],
   "source": [
    "data = pd.read_csv('../DataSets/Adult.csv')"
   ],
   "metadata": {
    "collapsed": false
   },
   "id": "9b1778f58ba5a7c1"
  },
  {
   "cell_type": "markdown",
   "source": [],
   "metadata": {
    "collapsed": false
   },
   "id": "db50d8ee2d8d5b2c"
  }
 ],
 "metadata": {
  "kernelspec": {
   "display_name": "Python 3",
   "language": "python",
   "name": "python3"
  },
  "language_info": {
   "codemirror_mode": {
    "name": "ipython",
    "version": 2
   },
   "file_extension": ".py",
   "mimetype": "text/x-python",
   "name": "python",
   "nbconvert_exporter": "python",
   "pygments_lexer": "ipython2",
   "version": "2.7.6"
  }
 },
 "nbformat": 4,
 "nbformat_minor": 5
}
