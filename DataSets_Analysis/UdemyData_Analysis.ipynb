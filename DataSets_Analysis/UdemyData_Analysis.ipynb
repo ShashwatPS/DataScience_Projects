{
 "cells": [
  {
   "cell_type": "markdown",
   "source": [
    "import pandas as pd\n",
    "import seaborn as sns"
   ],
   "metadata": {
    "collapsed": false
   },
   "id": "d3ec932fe6dceffd"
  },
  {
   "cell_type": "code",
   "execution_count": 4,
   "outputs": [],
   "source": [
    "data=pd.read_csv('../DataSets/udemy_courses.csv')"
   ],
   "metadata": {
    "collapsed": false,
    "ExecuteTime": {
     "end_time": "2023-09-15T12:20:22.404446900Z",
     "start_time": "2023-09-15T12:20:22.381446900Z"
    }
   },
   "id": "9ed4e033a1b3916f"
  },
  {
   "cell_type": "code",
   "execution_count": 5,
   "outputs": [
    {
     "data": {
      "text/plain": "course_id                int64\ncourse_title            object\nurl                     object\nis_paid                   bool\nprice                    int64\nnum_subscribers          int64\nnum_reviews              int64\nnum_lectures             int64\nlevel                   object\ncontent_duration       float64\npublished_timestamp     object\nsubject                 object\ndtype: object"
     },
     "execution_count": 5,
     "metadata": {},
     "output_type": "execute_result"
    }
   ],
   "source": [
    "data.dtypes"
   ],
   "metadata": {
    "collapsed": false,
    "ExecuteTime": {
     "end_time": "2023-09-15T12:20:23.354474400Z",
     "start_time": "2023-09-15T12:20:23.349449Z"
    }
   },
   "id": "e1eff8de1a64ed16"
  },
  {
   "cell_type": "markdown",
   "source": [
    "1. Display Top 10 Rows of The Dataset"
   ],
   "metadata": {
    "collapsed": false
   },
   "id": "e1a6a60c839016b6"
  },
  {
   "cell_type": "code",
   "execution_count": 7,
   "outputs": [
    {
     "data": {
      "text/plain": "   course_id                                       course_title  \\\n0    1070968                 Ultimate Investment Banking Course   \n1    1113822  Complete GST Course & Certification - Grow You...   \n2    1006314  Financial Modeling for Business Analysts and C...   \n3    1210588  Beginner to Pro - Financial Analysis in Excel ...   \n4    1011058       How To Maximize Your Profits Trading Options   \n5     192870  Trading Penny Stocks: A Guide for All Levels I...   \n6     739964  Investing And Trading For Beginners: Mastering...   \n7     403100  Trading Stock Chart Patterns For Immediate, Ex...   \n8     476268  Options Trading 3 : Advanced Stock Profit and ...   \n9    1167710  The Only Investment Strategy You Need For Your...   \n\n                                                 url  is_paid  price  \\\n0  https://www.udemy.com/ultimate-investment-bank...     True    200   \n1      https://www.udemy.com/goods-and-services-tax/     True     75   \n2  https://www.udemy.com/financial-modeling-for-b...     True     45   \n3  https://www.udemy.com/complete-excel-finance-c...     True     95   \n4  https://www.udemy.com/how-to-maximize-your-pro...     True    200   \n5  https://www.udemy.com/trading-penny-stocks-a-g...     True    150   \n6  https://www.udemy.com/investing-and-trading-fo...     True     65   \n7  https://www.udemy.com/trading-chart-patterns-f...     True     95   \n8  https://www.udemy.com/day-trading-stock-option...     True    195   \n9  https://www.udemy.com/the-only-investment-stra...     True    200   \n\n   num_subscribers  num_reviews  num_lectures               level  \\\n0             2147           23            51          All Levels   \n1             2792          923           274          All Levels   \n2             2174           74            51  Intermediate Level   \n3             2451           11            36          All Levels   \n4             1276           45            26  Intermediate Level   \n5             9221          138            25          All Levels   \n6             1540          178            26      Beginner Level   \n7             2917          148            23          All Levels   \n8             5172           34            38        Expert Level   \n9              827           14            15          All Levels   \n\n   content_duration   published_timestamp           subject  \n0               1.5  2017-01-18T20:58:58Z  Business Finance  \n1              39.0  2017-03-09T16:34:20Z  Business Finance  \n2               2.5  2016-12-19T19:26:30Z  Business Finance  \n3               3.0  2017-05-30T20:07:24Z  Business Finance  \n4               2.0  2016-12-13T14:57:18Z  Business Finance  \n5               3.0  2014-05-02T15:13:30Z  Business Finance  \n6               1.0  2016-02-21T18:23:12Z  Business Finance  \n7               2.5  2015-01-30T22:13:03Z  Business Finance  \n8               2.5  2015-05-28T00:14:03Z  Business Finance  \n9               1.0  2017-04-18T18:13:32Z  Business Finance  ",
      "text/html": "<div>\n<style scoped>\n    .dataframe tbody tr th:only-of-type {\n        vertical-align: middle;\n    }\n\n    .dataframe tbody tr th {\n        vertical-align: top;\n    }\n\n    .dataframe thead th {\n        text-align: right;\n    }\n</style>\n<table border=\"1\" class=\"dataframe\">\n  <thead>\n    <tr style=\"text-align: right;\">\n      <th></th>\n      <th>course_id</th>\n      <th>course_title</th>\n      <th>url</th>\n      <th>is_paid</th>\n      <th>price</th>\n      <th>num_subscribers</th>\n      <th>num_reviews</th>\n      <th>num_lectures</th>\n      <th>level</th>\n      <th>content_duration</th>\n      <th>published_timestamp</th>\n      <th>subject</th>\n    </tr>\n  </thead>\n  <tbody>\n    <tr>\n      <th>0</th>\n      <td>1070968</td>\n      <td>Ultimate Investment Banking Course</td>\n      <td>https://www.udemy.com/ultimate-investment-bank...</td>\n      <td>True</td>\n      <td>200</td>\n      <td>2147</td>\n      <td>23</td>\n      <td>51</td>\n      <td>All Levels</td>\n      <td>1.5</td>\n      <td>2017-01-18T20:58:58Z</td>\n      <td>Business Finance</td>\n    </tr>\n    <tr>\n      <th>1</th>\n      <td>1113822</td>\n      <td>Complete GST Course &amp; Certification - Grow You...</td>\n      <td>https://www.udemy.com/goods-and-services-tax/</td>\n      <td>True</td>\n      <td>75</td>\n      <td>2792</td>\n      <td>923</td>\n      <td>274</td>\n      <td>All Levels</td>\n      <td>39.0</td>\n      <td>2017-03-09T16:34:20Z</td>\n      <td>Business Finance</td>\n    </tr>\n    <tr>\n      <th>2</th>\n      <td>1006314</td>\n      <td>Financial Modeling for Business Analysts and C...</td>\n      <td>https://www.udemy.com/financial-modeling-for-b...</td>\n      <td>True</td>\n      <td>45</td>\n      <td>2174</td>\n      <td>74</td>\n      <td>51</td>\n      <td>Intermediate Level</td>\n      <td>2.5</td>\n      <td>2016-12-19T19:26:30Z</td>\n      <td>Business Finance</td>\n    </tr>\n    <tr>\n      <th>3</th>\n      <td>1210588</td>\n      <td>Beginner to Pro - Financial Analysis in Excel ...</td>\n      <td>https://www.udemy.com/complete-excel-finance-c...</td>\n      <td>True</td>\n      <td>95</td>\n      <td>2451</td>\n      <td>11</td>\n      <td>36</td>\n      <td>All Levels</td>\n      <td>3.0</td>\n      <td>2017-05-30T20:07:24Z</td>\n      <td>Business Finance</td>\n    </tr>\n    <tr>\n      <th>4</th>\n      <td>1011058</td>\n      <td>How To Maximize Your Profits Trading Options</td>\n      <td>https://www.udemy.com/how-to-maximize-your-pro...</td>\n      <td>True</td>\n      <td>200</td>\n      <td>1276</td>\n      <td>45</td>\n      <td>26</td>\n      <td>Intermediate Level</td>\n      <td>2.0</td>\n      <td>2016-12-13T14:57:18Z</td>\n      <td>Business Finance</td>\n    </tr>\n    <tr>\n      <th>5</th>\n      <td>192870</td>\n      <td>Trading Penny Stocks: A Guide for All Levels I...</td>\n      <td>https://www.udemy.com/trading-penny-stocks-a-g...</td>\n      <td>True</td>\n      <td>150</td>\n      <td>9221</td>\n      <td>138</td>\n      <td>25</td>\n      <td>All Levels</td>\n      <td>3.0</td>\n      <td>2014-05-02T15:13:30Z</td>\n      <td>Business Finance</td>\n    </tr>\n    <tr>\n      <th>6</th>\n      <td>739964</td>\n      <td>Investing And Trading For Beginners: Mastering...</td>\n      <td>https://www.udemy.com/investing-and-trading-fo...</td>\n      <td>True</td>\n      <td>65</td>\n      <td>1540</td>\n      <td>178</td>\n      <td>26</td>\n      <td>Beginner Level</td>\n      <td>1.0</td>\n      <td>2016-02-21T18:23:12Z</td>\n      <td>Business Finance</td>\n    </tr>\n    <tr>\n      <th>7</th>\n      <td>403100</td>\n      <td>Trading Stock Chart Patterns For Immediate, Ex...</td>\n      <td>https://www.udemy.com/trading-chart-patterns-f...</td>\n      <td>True</td>\n      <td>95</td>\n      <td>2917</td>\n      <td>148</td>\n      <td>23</td>\n      <td>All Levels</td>\n      <td>2.5</td>\n      <td>2015-01-30T22:13:03Z</td>\n      <td>Business Finance</td>\n    </tr>\n    <tr>\n      <th>8</th>\n      <td>476268</td>\n      <td>Options Trading 3 : Advanced Stock Profit and ...</td>\n      <td>https://www.udemy.com/day-trading-stock-option...</td>\n      <td>True</td>\n      <td>195</td>\n      <td>5172</td>\n      <td>34</td>\n      <td>38</td>\n      <td>Expert Level</td>\n      <td>2.5</td>\n      <td>2015-05-28T00:14:03Z</td>\n      <td>Business Finance</td>\n    </tr>\n    <tr>\n      <th>9</th>\n      <td>1167710</td>\n      <td>The Only Investment Strategy You Need For Your...</td>\n      <td>https://www.udemy.com/the-only-investment-stra...</td>\n      <td>True</td>\n      <td>200</td>\n      <td>827</td>\n      <td>14</td>\n      <td>15</td>\n      <td>All Levels</td>\n      <td>1.0</td>\n      <td>2017-04-18T18:13:32Z</td>\n      <td>Business Finance</td>\n    </tr>\n  </tbody>\n</table>\n</div>"
     },
     "execution_count": 7,
     "metadata": {},
     "output_type": "execute_result"
    }
   ],
   "source": [
    "data.head(10)"
   ],
   "metadata": {
    "collapsed": false,
    "ExecuteTime": {
     "end_time": "2023-09-15T12:20:57.895477200Z",
     "start_time": "2023-09-15T12:20:57.879377800Z"
    }
   },
   "id": "1c9bc357df141c23"
  },
  {
   "cell_type": "code",
   "execution_count": null,
   "outputs": [],
   "source": [],
   "metadata": {
    "collapsed": false
   },
   "id": "b38055e274e8e1ef"
  }
 ],
 "metadata": {
  "kernelspec": {
   "display_name": "Python 3",
   "language": "python",
   "name": "python3"
  },
  "language_info": {
   "codemirror_mode": {
    "name": "ipython",
    "version": 2
   },
   "file_extension": ".py",
   "mimetype": "text/x-python",
   "name": "python",
   "nbconvert_exporter": "python",
   "pygments_lexer": "ipython2",
   "version": "2.7.6"
  }
 },
 "nbformat": 4,
 "nbformat_minor": 5
}
